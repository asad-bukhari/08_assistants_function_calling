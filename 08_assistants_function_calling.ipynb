{
 "cells": [
  {
   "cell_type": "code",
   "execution_count": 97,
   "metadata": {},
   "outputs": [],
   "source": [
    "from openai import OpenAI\n",
    "import json\n",
    "from dotenv import load_dotenv,find_dotenv\n",
    "\n",
    "_ : bool = load_dotenv(find_dotenv())"
   ]
  },
  {
   "cell_type": "code",
   "execution_count": 98,
   "metadata": {},
   "outputs": [],
   "source": [
    "client  : OpenAI = OpenAI()"
   ]
  },
  {
   "cell_type": "markdown",
   "metadata": {},
   "source": [
    "### Step 0 : Define functions\n",
    "First, Define your functions:"
   ]
  },
  {
   "cell_type": "code",
   "execution_count": 99,
   "metadata": {},
   "outputs": [],
   "source": [
    "# Example dummy function hard coded to return the same weather\n",
    "# In production, this could be your backend API or an external API\n",
    "def getCurrentWeather(location:str, unit:str=\"fahrenheit\")->str | dict | None:\n",
    "    \"\"\"Get the current weather in a given location\"\"\"\n",
    "    if \"tokyo\" in location.lower():\n",
    "        return json.dumps({\"location\": \"Tokyo\", \"temperature\": \"10\", \"unit\": \"celsius\"})\n",
    "    elif \"los angeles\" in location.lower():\n",
    "        return json.dumps({\"location\": \"San Francisco\", \"temperature\": \"72\", \"unit\": \"fahrenheit\"})\n",
    "    elif \"paris\" in location.lower():\n",
    "        return json.dumps({\"location\": \"Paris\", \"temperature\": \"22\", \"unit\": \"celsius\"})\n",
    "    else:\n",
    "        return json.dumps({\"location\": location, \"temperature\": \"unknown\"})\n",
    "    \n",
    "\n",
    "def getNickname(location:str)->str:\n",
    "    \"\"\"Get the nickname of a city\"\"\"\n",
    "    if \"tokyo\" in location.lower():\n",
    "        return \"tk\"\n",
    "    elif \"los angeles\" in location.lower():\n",
    "        return \"la\"\n",
    "    elif \"paris\" in location.lower():\n",
    "        return \"py\"\n",
    "    else:\n",
    "        return location"
   ]
  },
  {
   "cell_type": "markdown",
   "metadata": {},
   "source": [
    "### Step 1 : Create an Assistant and register / report your functions\n",
    "\n"
   ]
  },
  {
   "cell_type": "code",
   "execution_count": 100,
   "metadata": {},
   "outputs": [],
   "source": [
    "import json\n",
    "def show_json(message,obj):\n",
    "    display(message,json.loads(obj.model_dump_json()))"
   ]
  },
  {
   "cell_type": "code",
   "execution_count": 101,
   "metadata": {},
   "outputs": [],
   "source": [
    "from openai.types.beta import Assistant\n",
    "assistant : Assistant = client.beta.assistants.create(\n",
    "    instructions=\"You are a weather bot. Use the provided function to answer questions.\",\n",
    "    model= \"gpt-3.5-turbo-1106\",\n",
    "    tools=[{\n",
    "        \"type\":\"function\",\n",
    "        \"function\" : {\n",
    "            \"name\" : \"getCurrentWeather\",\n",
    "            \"description\" : \"Get the weather in location\",\n",
    "            \"parameters\" : {\n",
    "                \"type\" : \"object\",\n",
    "                \"properties\": {\n",
    "                    \"location\" : {\"type\" : \"string\", \"description\": \"The city and state e.g San Francisco,SA\"},\n",
    "                    \"unit\": {\"type\" : \"string\",\"enum\" : [\"c\",\"f\"]}\n",
    "                },\n",
    "                \"required\" : [\"location\"]\n",
    "            }\n",
    "        }\n",
    "    },\n",
    "      {\n",
    "    \"type\": \"function\",\n",
    "    \"function\": {\n",
    "      \"name\": \"getNickname\",\n",
    "      \"description\": \"Get the nickname of a city\",\n",
    "      \"parameters\": {\n",
    "        \"type\": \"object\",\n",
    "        \"properties\": {\n",
    "          \"location\": {\"type\": \"string\", \"description\": \"The city and state e.g. San Francisco\"},\n",
    "        },\n",
    "        \"required\": [\"location\"]\n",
    "      }\n",
    "    } }\n",
    "    ]\n",
    ")"
   ]
  },
  {
   "cell_type": "markdown",
   "metadata": {},
   "source": [
    "### Step 2 : Create a Thread"
   ]
  },
  {
   "cell_type": "code",
   "execution_count": 102,
   "metadata": {},
   "outputs": [
    {
     "data": {
      "text/plain": [
       "'thread'"
      ]
     },
     "metadata": {},
     "output_type": "display_data"
    },
    {
     "data": {
      "text/plain": [
       "{'id': 'thread_DMGa6jm0tLWplRNRW2mT3yjG',\n",
       " 'created_at': 1705125412,\n",
       " 'metadata': {},\n",
       " 'object': 'thread'}"
      ]
     },
     "metadata": {},
     "output_type": "display_data"
    }
   ],
   "source": [
    "from openai.types.beta.thread import Thread\n",
    "\n",
    "thread : Thread =  client.beta.threads.create()\n",
    "show_json(\"thread\", thread)"
   ]
  },
  {
   "cell_type": "markdown",
   "metadata": {},
   "source": [
    "### Step 3 : Add a Message to a Thread\n"
   ]
  },
  {
   "cell_type": "code",
   "execution_count": 103,
   "metadata": {},
   "outputs": [],
   "source": [
    "from openai.types.beta.threads.thread_message import ThreadMessage\n",
    "# First Request\n",
    "message : ThreadMessage = client.beta.threads.messages.create(\n",
    "    thread_id= thread.id,\n",
    "    role= \"user\",\n",
    "    content= \"How is the weather in Paris?\"\n",
    ")\n",
    "\n",
    "\n"
   ]
  },
  {
   "cell_type": "code",
   "execution_count": 104,
   "metadata": {},
   "outputs": [
    {
     "data": {
      "text/plain": [
       "'Message'"
      ]
     },
     "metadata": {},
     "output_type": "display_data"
    },
    {
     "data": {
      "text/plain": [
       "{'id': 'msg_J09ThSreMdHxKFqmXannDWsH',\n",
       " 'assistant_id': None,\n",
       " 'content': [{'text': {'annotations': [],\n",
       "    'value': 'How is the weather in Paris?'},\n",
       "   'type': 'text'}],\n",
       " 'created_at': 1705125413,\n",
       " 'file_ids': [],\n",
       " 'metadata': {},\n",
       " 'object': 'thread.message',\n",
       " 'role': 'user',\n",
       " 'run_id': None,\n",
       " 'thread_id': 'thread_DMGa6jm0tLWplRNRW2mT3yjG'}"
      ]
     },
     "metadata": {},
     "output_type": "display_data"
    }
   ],
   "source": [
    "show_json(\"Message\", message)"
   ]
  },
  {
   "cell_type": "markdown",
   "metadata": {},
   "source": [
    "### Step 4 : Run the Assistant"
   ]
  },
  {
   "cell_type": "code",
   "execution_count": 105,
   "metadata": {},
   "outputs": [],
   "source": [
    "from openai.types.beta.threads.run import Run\n",
    "\n",
    "run : Run = client.beta.threads.runs.create(\n",
    "    thread_id=thread.id,\n",
    "    assistant_id=assistant.id\n",
    ")"
   ]
  },
  {
   "cell_type": "code",
   "execution_count": 106,
   "metadata": {},
   "outputs": [
    {
     "data": {
      "text/plain": [
       "'Run'"
      ]
     },
     "metadata": {},
     "output_type": "display_data"
    },
    {
     "data": {
      "text/plain": [
       "{'id': 'run_Zt6N6jMIEscCGfhHDt7ATtil',\n",
       " 'assistant_id': 'asst_IsS7pXdtTfCcRBmioTveVum4',\n",
       " 'cancelled_at': None,\n",
       " 'completed_at': None,\n",
       " 'created_at': 1705125413,\n",
       " 'expires_at': 1705126013,\n",
       " 'failed_at': None,\n",
       " 'file_ids': [],\n",
       " 'instructions': 'You are a weather bot. Use the provided function to answer questions.',\n",
       " 'last_error': None,\n",
       " 'metadata': {},\n",
       " 'model': 'gpt-3.5-turbo-1106',\n",
       " 'object': 'thread.run',\n",
       " 'required_action': None,\n",
       " 'started_at': None,\n",
       " 'status': 'queued',\n",
       " 'thread_id': 'thread_DMGa6jm0tLWplRNRW2mT3yjG',\n",
       " 'tools': [{'function': {'name': 'getCurrentWeather',\n",
       "    'description': 'Get the weather in location',\n",
       "    'parameters': {'type': 'object',\n",
       "     'properties': {'location': {'type': 'string',\n",
       "       'description': 'The city and state e.g San Francisco,SA'},\n",
       "      'unit': {'type': 'string', 'enum': ['c', 'f']}},\n",
       "     'required': ['location']}},\n",
       "   'type': 'function'},\n",
       "  {'function': {'name': 'getNickname',\n",
       "    'description': 'Get the nickname of a city',\n",
       "    'parameters': {'type': 'object',\n",
       "     'properties': {'location': {'type': 'string',\n",
       "       'description': 'The city and state e.g. San Francisco'}},\n",
       "     'required': ['location']}},\n",
       "   'type': 'function'}]}"
      ]
     },
     "metadata": {},
     "output_type": "display_data"
    }
   ],
   "source": [
    "show_json(\"Run\",run)"
   ]
  },
  {
   "cell_type": "code",
   "execution_count": 107,
   "metadata": {},
   "outputs": [],
   "source": [
    "available_functions = {\n",
    "    \"getCurrentWeather\": getCurrentWeather,\n",
    "    \"getNickname\" : getNickname\n",
    "}"
   ]
  },
  {
   "cell_type": "markdown",
   "metadata": {},
   "source": [
    "### Step 5 : Polling for Updates and Calling Functions\n"
   ]
  },
  {
   "cell_type": "code",
   "execution_count": 109,
   "metadata": {},
   "outputs": [
    {
     "name": "stdout",
     "output_type": "stream",
     "text": [
      "completed...........logic\n",
      "Assistant: The current weather in Paris is 22°C and it's known as \"The City of Light\".\n",
      "\n",
      "User: How is the weather in Paris?\n",
      "\n"
     ]
    }
   ],
   "source": [
    "import time\n",
    "\n",
    "while True:\n",
    "    runstatus = client.beta.threads.runs.retrieve(thread_id=thread.id,run_id=run.id)\n",
    "    if runstatus.status ==\"requires_action\":\n",
    "        toolCalls = runstatus.required_action.submit_tool_outputs.tool_calls\n",
    "        tool_outputs = []\n",
    "        for toolcall in toolCalls:\n",
    "            function_name = toolcall.function.name\n",
    "            function_args = json.loads(toolcall.function.arguments)\n",
    "            if function_name in available_functions:\n",
    "                function_to_call = available_functions[function_name]\n",
    "                if function_name ==\"getCurrentWeather\":\n",
    "                    response = function_to_call(location=function_args.get(\"location\"),unit=function_args.get(\"unit\"))\n",
    "                    tool_outputs.append({\n",
    "                        \"tool_call_id\" : toolcall.id,\n",
    "                        \"output\": response\n",
    "                    })\n",
    "                elif function_name ==\"getNickname\":\n",
    "                    response = function_to_call(location=function_args.get(\"location\"))\n",
    "                    tool_outputs.append({\n",
    "                        \"tool_call_id\" : toolcall.id,\n",
    "                        \"output\": response\n",
    "                    })\n"
   ]
  }
 ],
 "metadata": {
  "kernelspec": {
   "display_name": "myenv3_11",
   "language": "python",
   "name": "python3"
  },
  "language_info": {
   "codemirror_mode": {
    "name": "ipython",
    "version": 3
   },
   "file_extension": ".py",
   "mimetype": "text/x-python",
   "name": "python",
   "nbconvert_exporter": "python",
   "pygments_lexer": "ipython3",
   "version": "3.11.7"
  }
 },
 "nbformat": 4,
 "nbformat_minor": 2
}
